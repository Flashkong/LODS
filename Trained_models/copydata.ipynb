{
 "cells": [
  {
   "cell_type": "code",
   "execution_count": 39,
   "metadata": {},
   "outputs": [],
   "source": [
    "from tqdm import tqdm\n",
    "from shutil import copy"
   ]
  },
  {
   "cell_type": "code",
   "execution_count": 40,
   "metadata": {},
   "outputs": [
    {
     "name": "stderr",
     "output_type": "stream",
     "text": [
      "100%|██████████| 500/500 [00:00<00:00, 623.14it/s] \n"
     ]
    }
   ],
   "source": [
    "s_file_path='/home/lishuaifeng/data_python2.7/cityscape/VOC2007/ImageSets/Main/test_t.txt'\n",
    "s_image_dir='/home/lishuaifeng/data_python2.7/cityscape/VOC2007/JPEGImages/'\n",
    "s_anno_dir='/home/lishuaifeng/data_python2.7/cityscape/VOC2007/Annotations/'\n",
    "t_file_path='data/cityscape/VOC2007/ImageSets/Main/test_t.txt'\n",
    "t_image_dir='data/cityscape/VOC2007/JPEGImages/'\n",
    "t_anno_dir='data/cityscape/VOC2007/Annotations/'\n",
    "copy(s_file_path,t_file_path)\n",
    "with open(t_file_path,'r') as f:\n",
    "    images=f.readlines()\n",
    "for i in tqdm(range(0,len(images))):\n",
    "    s_image = s_image_dir+images[i].split('\\n')[0]+'.jpg'\n",
    "    t_image = t_image_dir+images[i].split('\\n')[0]+'.jpg'\n",
    "    s_anno = s_anno_dir+images[i].split('\\n')[0]+'.xml'\n",
    "    t_anno = t_anno_dir+images[i].split('\\n')[0]+'.xml'\n",
    "    copy(s_image,t_image)\n",
    "    copy(s_anno,t_anno)"
   ]
  },
  {
   "cell_type": "code",
   "execution_count": 41,
   "metadata": {},
   "outputs": [
    {
     "name": "stderr",
     "output_type": "stream",
     "text": [
      "100%|██████████| 1000/1000 [00:00<00:00, 2847.07it/s]\n"
     ]
    }
   ],
   "source": [
    "s_file_path='/home/lishuaifeng/data_python2.7/clipart/VOC2007/ImageSets/Main/traintest1k.txt'\n",
    "s_image_dir='/home/lishuaifeng/data_python2.7/clipart/VOC2007/JPEGImages/'\n",
    "s_anno_dir='/home/lishuaifeng/data_python2.7/clipart/VOC2007/Annotations/'\n",
    "t_file_path='data/clipart/VOC2007/ImageSets/Main/traintest1k.txt'\n",
    "t_image_dir='data/clipart/VOC2007/JPEGImages/'\n",
    "t_anno_dir='data/clipart/VOC2007/Annotations/'\n",
    "copy(s_file_path,t_file_path)\n",
    "with open(t_file_path,'r') as f:\n",
    "    images=f.readlines()\n",
    "for i in tqdm(range(0,len(images))):\n",
    "    s_image = s_image_dir+images[i].split('\\n')[0]+'.jpg'\n",
    "    t_image = t_image_dir+images[i].split('\\n')[0]+'.jpg'\n",
    "    s_anno = s_anno_dir+images[i].split('\\n')[0]+'.xml'\n",
    "    t_anno = t_anno_dir+images[i].split('\\n')[0]+'.xml'\n",
    "    copy(s_image,t_image)\n",
    "    copy(s_anno,t_anno)"
   ]
  },
  {
   "cell_type": "code",
   "execution_count": 42,
   "metadata": {},
   "outputs": [
    {
     "name": "stderr",
     "output_type": "stream",
     "text": [
      "100%|██████████| 1000/1000 [00:02<00:00, 344.27it/s]\n"
     ]
    }
   ],
   "source": [
    "s_file_path='/home/lishuaifeng/data_python2.7/watercolor/VOC2007/ImageSets/Main/test_wc.txt'\n",
    "s_image_dir='/home/lishuaifeng/data_python2.7/watercolor/VOC2007/JPEGImages/'\n",
    "s_anno_dir='/home/lishuaifeng/data_python2.7/watercolor/VOC2007/Annotations/'\n",
    "t_file_path='data/watercolor/VOC2007/ImageSets/Main/test_wc.txt'\n",
    "t_image_dir='data/watercolor/VOC2007/JPEGImages/'\n",
    "t_anno_dir='data/watercolor/VOC2007/Annotations/'\n",
    "copy(s_file_path,t_file_path)\n",
    "with open(t_file_path,'r') as f:\n",
    "    images=f.readlines()\n",
    "for i in tqdm(range(0,len(images))):\n",
    "    s_image = s_image_dir+images[i].split('\\n')[0]+'.jpg'\n",
    "    t_image = t_image_dir+images[i].split('\\n')[0]+'.jpg'\n",
    "    s_anno = s_anno_dir+images[i].split('\\n')[0]+'.xml'\n",
    "    t_anno = t_anno_dir+images[i].split('\\n')[0]+'.xml'\n",
    "    copy(s_image,t_image)\n",
    "    copy(s_anno,t_anno)"
   ]
  },
  {
   "cell_type": "code",
   "execution_count": 43,
   "metadata": {},
   "outputs": [
    {
     "name": "stderr",
     "output_type": "stream",
     "text": [
      "100%|██████████| 500/500 [00:08<00:00, 57.26it/s]\n"
     ]
    }
   ],
   "source": [
    "# for the KITTI to Cityscape\n",
    "s_file_path='/home/lishuaifeng/data_python2.7/cityscape/VOC2007/ImageSets/Main/test_s500.txt'\n",
    "s_image_dir='/home/lishuaifeng/data_python2.7/cityscape/VOC2007/JPEGImages/'\n",
    "s_anno_dir='/home/lishuaifeng/data_python2.7/cityscape/VOC2007/Annotations/'\n",
    "t_file_path='data/cityscape/VOC2007/ImageSets/Main/test_s500.txt'\n",
    "t_image_dir='data/cityscape/VOC2007/JPEGImages/'\n",
    "t_anno_dir='data/cityscape/VOC2007/Annotations/'\n",
    "copy(s_file_path,t_file_path)\n",
    "with open(t_file_path,'r') as f:\n",
    "    images=f.readlines()\n",
    "for i in tqdm(range(0,len(images))):\n",
    "    s_image = s_image_dir+images[i].split('\\n')[0]+'.jpg'\n",
    "    t_image = t_image_dir+images[i].split('\\n')[0]+'.jpg'\n",
    "    s_anno = s_anno_dir+images[i].split('\\n')[0]+'.xml'\n",
    "    t_anno = t_anno_dir+images[i].split('\\n')[0]+'.xml'\n",
    "    copy(s_image,t_image)\n",
    "    copy(s_anno,t_anno)"
   ]
  }
 ],
 "metadata": {
  "interpreter": {
   "hash": "4dc51b97c7e6908824098c9c77a3c593f7d68a9825fea1e14e64caea54f118f1"
  },
  "kernelspec": {
   "display_name": "Python 3.6.10 64-bit ('Adain': conda)",
   "language": "python",
   "name": "python3"
  },
  "language_info": {
   "codemirror_mode": {
    "name": "ipython",
    "version": 3
   },
   "file_extension": ".py",
   "mimetype": "text/x-python",
   "name": "python",
   "nbconvert_exporter": "python",
   "pygments_lexer": "ipython3",
   "version": "3.6.10"
  },
  "orig_nbformat": 4
 },
 "nbformat": 4,
 "nbformat_minor": 2
}
